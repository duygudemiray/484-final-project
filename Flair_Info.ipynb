{
  "nbformat": 4,
  "nbformat_minor": 5,
  "metadata": {
    "kernelspec": {
      "display_name": "Python 3",
      "language": "python",
      "name": "python3"
    },
    "language_info": {
      "codemirror_mode": {
        "name": "ipython",
        "version": 3
      },
      "file_extension": ".py",
      "mimetype": "text/x-python",
      "name": "python",
      "nbconvert_exporter": "python",
      "pygments_lexer": "ipython3",
      "version": "3.9.1"
    },
    "colab": {
      "name": "Flair Info.ipynb",
      "provenance": [],
      "include_colab_link": true
    }
  },
  "cells": [
    {
      "cell_type": "markdown",
      "metadata": {
        "id": "view-in-github",
        "colab_type": "text"
      },
      "source": [
        "<a href=\"https://colab.research.google.com/github/humanistrobot/484-final-project/blob/main/Flair_Info.ipynb\" target=\"_parent\"><img src=\"https://colab.research.google.com/assets/colab-badge.svg\" alt=\"Open In Colab\"/></a>"
      ]
    },
    {
      "cell_type": "markdown",
      "metadata": {
        "id": "ecbfbeb6"
      },
      "source": [
        "Citing & more info from here: https://github.com/flairNLP/flair"
      ],
      "id": "ecbfbeb6"
    },
    {
      "cell_type": "code",
      "metadata": {
        "id": "c6e436ba",
        "outputId": "3152026d-99a4-4231-82f9-2f0c4ff7e0ed"
      },
      "source": [
        "pip install flair"
      ],
      "id": "c6e436ba",
      "execution_count": null,
      "outputs": [
        {
          "output_type": "stream",
          "text": [
            "Requirement already satisfied: flair in c:\\users\\duygu\\miniconda3\\lib\\site-packages (0.8.0.post1)\n",
            "Requirement already satisfied: tabulate in c:\\users\\duygu\\miniconda3\\lib\\site-packages (from flair) (0.8.9)\n",
            "Requirement already satisfied: gensim<=3.8.3,>=3.4.0 in c:\\users\\duygu\\miniconda3\\lib\\site-packages (from flair) (3.8.3)\n",
            "Requirement already satisfied: huggingface-hub in c:\\users\\duygu\\miniconda3\\lib\\site-packages (from flair) (0.0.8)\n",
            "Requirement already satisfied: numpy<1.20.0 in c:\\users\\duygu\\miniconda3\\lib\\site-packages (from flair) (1.19.5)\n",
            "Requirement already satisfied: deprecated>=1.2.4 in c:\\users\\duygu\\miniconda3\\lib\\site-packages (from flair) (1.2.12)\n",
            "Requirement already satisfied: mpld3==0.3 in c:\\users\\duygu\\miniconda3\\lib\\site-packages (from flair) (0.3)\n",
            "Requirement already satisfied: matplotlib>=2.2.3 in c:\\users\\duygu\\miniconda3\\lib\\site-packages (from flair) (3.4.2)\n",
            "Requirement already satisfied: ftfy in c:\\users\\duygu\\miniconda3\\lib\\site-packages (from flair) (6.0.3)\n",
            "Requirement already satisfied: langdetect in c:\\users\\duygu\\miniconda3\\lib\\site-packages (from flair) (1.0.9)\n",
            "Requirement already satisfied: python-dateutil>=2.6.1 in c:\\users\\duygu\\miniconda3\\lib\\site-packages (from flair) (2.8.1)\n",
            "Requirement already satisfied: hyperopt>=0.1.1 in c:\\users\\duygu\\miniconda3\\lib\\site-packages (from flair) (0.2.5)\n",
            "Requirement already satisfied: konoha<5.0.0,>=4.0.0 in c:\\users\\duygu\\miniconda3\\lib\\site-packages (from flair) (4.6.5)\n",
            "Requirement already satisfied: lxml in c:\\users\\duygu\\miniconda3\\lib\\site-packages (from flair) (4.6.3)\n",
            "Requirement already satisfied: janome in c:\\users\\duygu\\miniconda3\\lib\\site-packages (from flair) (0.4.1)\n",
            "Requirement already satisfied: torch<=1.7.1,>=1.5.0 in c:\\users\\duygu\\miniconda3\\lib\\site-packages (from flair) (1.7.1)\n",
            "Requirement already satisfied: transformers>=4.0.0 in c:\\users\\duygu\\miniconda3\\lib\\site-packages (from flair) (4.6.1)\n",
            "Requirement already satisfied: bpemb>=0.3.2 in c:\\users\\duygu\\miniconda3\\lib\\site-packages (from flair) (0.3.3)\n",
            "Requirement already satisfied: sentencepiece==0.1.95 in c:\\users\\duygu\\miniconda3\\lib\\site-packages (from flair) (0.1.95)\n",
            "Requirement already satisfied: sqlitedict>=1.6.0 in c:\\users\\duygu\\miniconda3\\lib\\site-packages (from flair) (1.7.0)\n",
            "Requirement already satisfied: tqdm>=4.26.0 in c:\\users\\duygu\\miniconda3\\lib\\site-packages (from flair) (4.54.1)\n",
            "Requirement already satisfied: scikit-learn>=0.21.3 in c:\\users\\duygu\\miniconda3\\lib\\site-packages (from flair) (0.24.2)\n",
            "Requirement already satisfied: gdown==3.12.2 in c:\\users\\duygu\\miniconda3\\lib\\site-packages (from flair) (3.12.2)\n",
            "Requirement already satisfied: regex in c:\\users\\duygu\\miniconda3\\lib\\site-packages (from flair) (2021.4.4)\n",
            "Requirement already satisfied: segtok>=1.5.7 in c:\\users\\duygu\\miniconda3\\lib\\site-packages (from flair) (1.5.10)\n",
            "Requirement already satisfied: requests[socks] in c:\\users\\duygu\\miniconda3\\lib\\site-packages (from gdown==3.12.2->flair) (2.25.1)\n",
            "Requirement already satisfied: filelock in c:\\users\\duygu\\miniconda3\\lib\\site-packages (from gdown==3.12.2->flair) (3.0.12)\n",
            "Requirement already satisfied: six in c:\\users\\duygu\\miniconda3\\lib\\site-packages (from gdown==3.12.2->flair) (1.15.0)\n",
            "Requirement already satisfied: wrapt<2,>=1.10 in c:\\users\\duygu\\miniconda3\\lib\\site-packages (from deprecated>=1.2.4->flair) (1.12.1)\n",
            "Requirement already satisfied: smart-open>=1.8.1 in c:\\users\\duygu\\miniconda3\\lib\\site-packages (from gensim<=3.8.3,>=3.4.0->flair) (5.1.0)\n",
            "Requirement already satisfied: scipy>=0.18.1 in c:\\users\\duygu\\miniconda3\\lib\\site-packages (from gensim<=3.8.3,>=3.4.0->flair) (1.6.3)\n",
            "Requirement already satisfied: future in c:\\users\\duygu\\miniconda3\\lib\\site-packages (from hyperopt>=0.1.1->flair) (0.18.2)\n",
            "Requirement already satisfied: cloudpickle in c:\\users\\duygu\\miniconda3\\lib\\site-packages (from hyperopt>=0.1.1->flair) (1.6.0)\n",
            "Requirement already satisfied: networkx>=2.2 in c:\\users\\duygu\\miniconda3\\lib\\site-packages (from hyperopt>=0.1.1->flair) (2.5.1)\n",
            "Requirement already satisfied: importlib-metadata<4.0.0,>=3.7.0 in c:\\users\\duygu\\miniconda3\\lib\\site-packages (from konoha<5.0.0,>=4.0.0->flair) (3.10.0)\n",
            "Requirement already satisfied: overrides<4.0.0,>=3.0.0 in c:\\users\\duygu\\miniconda3\\lib\\site-packages (from konoha<5.0.0,>=4.0.0->flair) (3.1.0)\n",
            "Requirement already satisfied: zipp>=0.5 in c:\\users\\duygu\\miniconda3\\lib\\site-packages (from importlib-metadata<4.0.0,>=3.7.0->konoha<5.0.0,>=4.0.0->flair) (3.4.1)\n",
            "Requirement already satisfied: pyparsing>=2.2.1 in c:\\users\\duygu\\miniconda3\\lib\\site-packages (from matplotlib>=2.2.3->flair) (2.4.7)\n",
            "Requirement already satisfied: kiwisolver>=1.0.1 in c:\\users\\duygu\\miniconda3\\lib\\site-packages (from matplotlib>=2.2.3->flair) (1.3.1)\n",
            "Requirement already satisfied: cycler>=0.10 in c:\\users\\duygu\\miniconda3\\lib\\site-packages (from matplotlib>=2.2.3->flair) (0.10.0)\n",
            "Requirement already satisfied: pillow>=6.2.0 in c:\\users\\duygu\\miniconda3\\lib\\site-packages (from matplotlib>=2.2.3->flair) (8.2.0)\n",
            "Requirement already satisfied: decorator<5,>=4.3 in c:\\users\\duygu\\miniconda3\\lib\\site-packages (from networkx>=2.2->hyperopt>=0.1.1->flair) (4.4.2)\n",
            "Requirement already satisfied: chardet<5,>=3.0.2 in c:\\users\\duygu\\miniconda3\\lib\\site-packages (from requests[socks]->gdown==3.12.2->flair) (3.0.4)\n",
            "Requirement already satisfied: idna<3,>=2.5 in c:\\users\\duygu\\miniconda3\\lib\\site-packages (from requests[socks]->gdown==3.12.2->flair) (2.10)\n",
            "Requirement already satisfied: urllib3<1.27,>=1.21.1 in c:\\users\\duygu\\miniconda3\\lib\\site-packages (from requests[socks]->gdown==3.12.2->flair) (1.25.11)\n",
            "Requirement already satisfied: certifi>=2017.4.17 in c:\\users\\duygu\\miniconda3\\lib\\site-packages (from requests[socks]->gdown==3.12.2->flair) (2021.5.30)\n",
            "Requirement already satisfied: threadpoolctl>=2.0.0 in c:\\users\\duygu\\miniconda3\\lib\\site-packages (from scikit-learn>=0.21.3->flair) (2.1.0)\n",
            "Requirement already satisfied: joblib>=0.11 in c:\\users\\duygu\\miniconda3\\lib\\site-packages (from scikit-learn>=0.21.3->flair) (1.0.1)\n",
            "Requirement already satisfied: typing-extensions in c:\\users\\duygu\\miniconda3\\lib\\site-packages (from torch<=1.7.1,>=1.5.0->flair) (3.10.0.0)\n",
            "Requirement already satisfied: packaging in c:\\users\\duygu\\miniconda3\\lib\\site-packages (from transformers>=4.0.0->flair) (20.9)\n",
            "Requirement already satisfied: sacremoses in c:\\users\\duygu\\miniconda3\\lib\\site-packages (from transformers>=4.0.0->flair) (0.0.45)\n",
            "Requirement already satisfied: tokenizers<0.11,>=0.10.1 in c:\\users\\duygu\\miniconda3\\lib\\site-packages (from transformers>=4.0.0->flair) (0.10.3)\n",
            "Requirement already satisfied: wcwidth in c:\\users\\duygu\\miniconda3\\lib\\site-packages (from ftfy->flair) (0.2.5)\n",
            "Requirement already satisfied: PySocks!=1.5.7,>=1.5.6 in c:\\users\\duygu\\miniconda3\\lib\\site-packages (from requests[socks]->gdown==3.12.2->flair) (1.7.1)\n",
            "Requirement already satisfied: click in c:\\users\\duygu\\miniconda3\\lib\\site-packages (from sacremoses->transformers>=4.0.0->flair) (8.0.1)\n",
            "Requirement already satisfied: colorama in c:\\users\\duygu\\miniconda3\\lib\\site-packages (from click->sacremoses->transformers>=4.0.0->flair) (0.4.4)\n",
            "Note: you may need to restart the kernel to use updated packages.\n"
          ],
          "name": "stdout"
        }
      ]
    },
    {
      "cell_type": "markdown",
      "metadata": {
        "id": "9c356258"
      },
      "source": [
        "This is what you need!!!!! The code cell below:\n",
        "\n",
        "You need to use ner-ontonotes because that is the only one that tags TIME, among other things. Check it out from here: https://huggingface.co/flair/ner-english-ontonotes"
      ],
      "id": "9c356258"
    },
    {
      "cell_type": "code",
      "metadata": {
        "id": "f999d2ab",
        "outputId": "d16803c6-2bc3-497b-e005-b89f9f91f2bf"
      },
      "source": [
        "from flair.data import Sentence\n",
        "from flair.models import SequenceTagger\n",
        "\n",
        "# make a sentence\n",
        "sentence = Sentence('Weather in France next week')\n",
        "\n",
        "# load the NER tagger\n",
        "tagger = SequenceTagger.load('ner-ontonotes-fast')\n",
        "\n",
        "# run NER over sentence\n",
        "tagger.predict(sentence)\n",
        "\n",
        "#print sentence w/ predicted tags\n",
        "print(sentence.to_tagged_string())\n"
      ],
      "id": "f999d2ab",
      "execution_count": null,
      "outputs": [
        {
          "output_type": "stream",
          "text": [
            "2021-06-14 16:57:25,924 --------------------------------------------------------------------------------\n",
            "2021-06-14 16:57:25,924 The model key 'ner-ontonotes-fast' now maps to 'https://huggingface.co/flair/ner-english-ontonotes-fast' on the HuggingFace ModelHub\n",
            "2021-06-14 16:57:25,932  - The most current version of the model is automatically downloaded from there.\n",
            "2021-06-14 16:57:25,932  - (you can alternatively manually download the original model at https://nlp.informatik.hu-berlin.de/resources/models/ner-ontonotes-fast/en-ner-ontonotes-fast-v0.4.pt)\n",
            "2021-06-14 16:57:25,932 --------------------------------------------------------------------------------\n",
            "2021-06-14 16:57:26,565 loading file C:\\Users\\duygu\\.flair\\models\\ner-english-ontonotes-fast\\0d55dd3b912da9cf26e003035a0c269a0e9ab222f0be1e48a3bbba3a58c0fed0.c9907cd5fde3ce84b71a4172e7ca03841cd81ab71d13eb68aa08b259f57c00b6\n",
            "Weather in France <S-GPE> next <B-DATE> week <E-DATE>\n"
          ],
          "name": "stdout"
        }
      ]
    },
    {
      "cell_type": "code",
      "metadata": {
        "id": "5bdff50f"
      },
      "source": [
        "#perhaps a better way to get the tag\n",
        "\n",
        "parse = sentence.get_spans()\n"
      ],
      "id": "5bdff50f",
      "execution_count": null,
      "outputs": []
    },
    {
      "cell_type": "code",
      "metadata": {
        "id": "4d260042",
        "outputId": "2ccf28d6-fa94-47a3-a0e8-8ad6186440b5"
      },
      "source": [
        "#this returns empty, which is a bummer because it would make our job tremendously easier. \n",
        "#i'll just work w/ the cell above for now. \n",
        "sentence.to_dict(tag_type = 'ner')"
      ],
      "id": "4d260042",
      "execution_count": null,
      "outputs": [
        {
          "output_type": "execute_result",
          "data": {
            "text/plain": [
              "{'text': 'Weather in France next week',\n",
              " 'labels': [],\n",
              " 'entities': [{'text': 'France',\n",
              "   'start_pos': 11,\n",
              "   'end_pos': 17,\n",
              "   'labels': [GPE (0.9999)]},\n",
              "  {'text': 'next week',\n",
              "   'start_pos': 18,\n",
              "   'end_pos': 27,\n",
              "   'labels': [DATE (0.9722)]}]}"
            ]
          },
          "metadata": {
            "tags": []
          },
          "execution_count": 7
        }
      ]
    },
    {
      "cell_type": "code",
      "metadata": {
        "id": "6473bfe8",
        "outputId": "d8be9f9b-993f-4310-936d-2113a6da6b75"
      },
      "source": [
        "#semantic frame detection. if you run this on a Mac it will work. For Windows, see the cell below. \n",
        "\n",
        "frame_tagger = SequenceTagger.load('frame')\n",
        "\n",
        "sentence_1 = Sentence('What is the weather like today?')\n",
        "frame_tagger.predict(sentence_1)\n",
        "print(sentence_1.to_tagged_string())\n"
      ],
      "id": "6473bfe8",
      "execution_count": null,
      "outputs": [
        {
          "output_type": "stream",
          "text": [
            "2021-06-14 16:59:52,642 --------------------------------------------------------------------------------\n",
            "2021-06-14 16:59:52,642 The model key 'frame' now maps to 'https://huggingface.co/flair/frame-english' on the HuggingFace ModelHub\n",
            "2021-06-14 16:59:52,650  - The most current version of the model is automatically downloaded from there.\n",
            "2021-06-14 16:59:52,650  - (you can alternatively manually download the original model at https://nlp.informatik.hu-berlin.de/resources/models/frame/en-frame-ontonotes-v0.4.pt)\n",
            "2021-06-14 16:59:52,650 --------------------------------------------------------------------------------\n",
            "2021-06-14 16:59:53,400 loading file C:\\Users\\duygu\\.flair\\models\\frame-english\\c397b8bbddf56e35a7d4b64295712a42a1a9b7ccf430dff76d03c8c7e26b9707.fd7786a36026b383ca73a1413c0a29aa1e67551621b805a0d28ca547636353b9\n",
            "What is <be.01> the weather like today ?\n"
          ],
          "name": "stdout"
        }
      ]
    },
    {
      "cell_type": "code",
      "metadata": {
        "id": "82d9249f",
        "outputId": "ef4a3084-68a9-485c-87af-c071d18b06dc"
      },
      "source": [
        "#trying to solve the PosixPath problem\n",
        "import pathlib\n",
        "\n",
        "temp = pathlib.PosixPath\n",
        "pathlib.PosixPath = pathlib.WindowsPath\n",
        "\n",
        "#it works!!!!!\n",
        "sentence_1 = Sentence('What is the weather like today?')\n",
        "frame_tagger.predict(sentence_1)\n",
        "print(sentence_1.to_tagged_string())"
      ],
      "id": "82d9249f",
      "execution_count": null,
      "outputs": [
        {
          "output_type": "stream",
          "text": [
            "What is <be.01> the weather like today ?\n"
          ],
          "name": "stdout"
        }
      ]
    },
    {
      "cell_type": "markdown",
      "metadata": {
        "id": "6accabf9"
      },
      "source": [
        "The problem with 'frame' in flair is that it only works for verbs. Which is of no use to us really. What you need to use is what you used at the very beginning. From SequenceTagger load 'ner'. \n",
        "\n",
        "Ok, jokes on me, we need the frame too. I am not going to go into the implementation immediately, but we can use it later. "
      ],
      "id": "6accabf9"
    }
  ]
}